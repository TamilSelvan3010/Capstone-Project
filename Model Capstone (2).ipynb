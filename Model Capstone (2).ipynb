{
 "cells": [
  {
   "cell_type": "code",
   "execution_count": 1,
   "id": "b3512fc6-24fb-4c18-9040-6d6f6de58a77",
   "metadata": {},
   "outputs": [],
   "source": [
    "import pandas as pd\n",
    "import numpy as np\n",
    "import seaborn as sns\n",
    "import matplotlib.pyplot as plt\n",
    "from sklearn.model_selection import train_test_split\n",
    "import statsmodels.api as sm\n",
    "from sklearn.linear_model import LogisticRegression\n",
    "from sklearn.ensemble import RandomForestClassifier\n",
    "from sklearn.metrics import accuracy_score, precision_score, f1_score\n",
    "from sklearn import metrics"
   ]
  },
  {
   "cell_type": "code",
   "execution_count": 2,
   "id": "11f9290c-27dd-4913-a1ed-58d81d265650",
   "metadata": {},
   "outputs": [
    {
     "data": {
      "text/html": [
       "<div>\n",
       "<style scoped>\n",
       "    .dataframe tbody tr th:only-of-type {\n",
       "        vertical-align: middle;\n",
       "    }\n",
       "\n",
       "    .dataframe tbody tr th {\n",
       "        vertical-align: top;\n",
       "    }\n",
       "\n",
       "    .dataframe thead th {\n",
       "        text-align: right;\n",
       "    }\n",
       "</style>\n",
       "<table border=\"1\" class=\"dataframe\">\n",
       "  <thead>\n",
       "    <tr style=\"text-align: right;\">\n",
       "      <th></th>\n",
       "      <th>Campaign_ID</th>\n",
       "      <th>Company</th>\n",
       "      <th>Campaign_Type</th>\n",
       "      <th>Target_Audience</th>\n",
       "      <th>Duration</th>\n",
       "      <th>Channel_Used</th>\n",
       "      <th>Conversion_Rate</th>\n",
       "      <th>Acquisition_Cost</th>\n",
       "      <th>ROI</th>\n",
       "      <th>Location</th>\n",
       "      <th>Language</th>\n",
       "      <th>Clicks</th>\n",
       "      <th>Impressions</th>\n",
       "      <th>Engagement_Score</th>\n",
       "      <th>Customer_Segment</th>\n",
       "      <th>Date</th>\n",
       "    </tr>\n",
       "  </thead>\n",
       "  <tbody>\n",
       "    <tr>\n",
       "      <th>0</th>\n",
       "      <td>1</td>\n",
       "      <td>Innovate Industries</td>\n",
       "      <td>Email</td>\n",
       "      <td>Men 18-24</td>\n",
       "      <td>30 days</td>\n",
       "      <td>Google Ads</td>\n",
       "      <td>0.04</td>\n",
       "      <td>$16,174.00</td>\n",
       "      <td>6.29</td>\n",
       "      <td>Chicago</td>\n",
       "      <td>Spanish</td>\n",
       "      <td>506</td>\n",
       "      <td>1922</td>\n",
       "      <td>6</td>\n",
       "      <td>Health &amp; Wellness</td>\n",
       "      <td>01-01-2021</td>\n",
       "    </tr>\n",
       "    <tr>\n",
       "      <th>1</th>\n",
       "      <td>2</td>\n",
       "      <td>NexGen Systems</td>\n",
       "      <td>Email</td>\n",
       "      <td>Women 35-44</td>\n",
       "      <td>60 days</td>\n",
       "      <td>Google Ads</td>\n",
       "      <td>0.12</td>\n",
       "      <td>$11,566.00</td>\n",
       "      <td>5.61</td>\n",
       "      <td>New York</td>\n",
       "      <td>German</td>\n",
       "      <td>116</td>\n",
       "      <td>7523</td>\n",
       "      <td>7</td>\n",
       "      <td>Fashionistas</td>\n",
       "      <td>02-01-2021</td>\n",
       "    </tr>\n",
       "    <tr>\n",
       "      <th>2</th>\n",
       "      <td>3</td>\n",
       "      <td>Alpha Innovations</td>\n",
       "      <td>Influencer</td>\n",
       "      <td>Men 25-34</td>\n",
       "      <td>30 days</td>\n",
       "      <td>YouTube</td>\n",
       "      <td>0.07</td>\n",
       "      <td>$10,200.00</td>\n",
       "      <td>7.18</td>\n",
       "      <td>Los Angeles</td>\n",
       "      <td>French</td>\n",
       "      <td>584</td>\n",
       "      <td>7698</td>\n",
       "      <td>1</td>\n",
       "      <td>Outdoor Adventurers</td>\n",
       "      <td>03-01-2021</td>\n",
       "    </tr>\n",
       "    <tr>\n",
       "      <th>3</th>\n",
       "      <td>4</td>\n",
       "      <td>DataTech Solutions</td>\n",
       "      <td>Display</td>\n",
       "      <td>All Ages</td>\n",
       "      <td>60 days</td>\n",
       "      <td>YouTube</td>\n",
       "      <td>0.11</td>\n",
       "      <td>$12,724.00</td>\n",
       "      <td>5.55</td>\n",
       "      <td>Miami</td>\n",
       "      <td>Mandarin</td>\n",
       "      <td>217</td>\n",
       "      <td>1820</td>\n",
       "      <td>7</td>\n",
       "      <td>Health &amp; Wellness</td>\n",
       "      <td>04-01-2021</td>\n",
       "    </tr>\n",
       "    <tr>\n",
       "      <th>4</th>\n",
       "      <td>5</td>\n",
       "      <td>NexGen Systems</td>\n",
       "      <td>Email</td>\n",
       "      <td>Men 25-34</td>\n",
       "      <td>15 days</td>\n",
       "      <td>YouTube</td>\n",
       "      <td>0.05</td>\n",
       "      <td>$16,452.00</td>\n",
       "      <td>6.50</td>\n",
       "      <td>Los Angeles</td>\n",
       "      <td>Mandarin</td>\n",
       "      <td>379</td>\n",
       "      <td>4201</td>\n",
       "      <td>3</td>\n",
       "      <td>Health &amp; Wellness</td>\n",
       "      <td>05-01-2021</td>\n",
       "    </tr>\n",
       "    <tr>\n",
       "      <th>...</th>\n",
       "      <td>...</td>\n",
       "      <td>...</td>\n",
       "      <td>...</td>\n",
       "      <td>...</td>\n",
       "      <td>...</td>\n",
       "      <td>...</td>\n",
       "      <td>...</td>\n",
       "      <td>...</td>\n",
       "      <td>...</td>\n",
       "      <td>...</td>\n",
       "      <td>...</td>\n",
       "      <td>...</td>\n",
       "      <td>...</td>\n",
       "      <td>...</td>\n",
       "      <td>...</td>\n",
       "      <td>...</td>\n",
       "    </tr>\n",
       "    <tr>\n",
       "      <th>199995</th>\n",
       "      <td>199996</td>\n",
       "      <td>TechCorp</td>\n",
       "      <td>Display</td>\n",
       "      <td>All Ages</td>\n",
       "      <td>30 days</td>\n",
       "      <td>Google Ads</td>\n",
       "      <td>0.06</td>\n",
       "      <td>$18,365.00</td>\n",
       "      <td>2.84</td>\n",
       "      <td>Chicago</td>\n",
       "      <td>German</td>\n",
       "      <td>858</td>\n",
       "      <td>5988</td>\n",
       "      <td>1</td>\n",
       "      <td>Tech Enthusiasts</td>\n",
       "      <td>07-12-2021</td>\n",
       "    </tr>\n",
       "    <tr>\n",
       "      <th>199996</th>\n",
       "      <td>199997</td>\n",
       "      <td>DataTech Solutions</td>\n",
       "      <td>Email</td>\n",
       "      <td>Men 25-34</td>\n",
       "      <td>15 days</td>\n",
       "      <td>Facebook</td>\n",
       "      <td>0.02</td>\n",
       "      <td>$8,168.00</td>\n",
       "      <td>4.14</td>\n",
       "      <td>Chicago</td>\n",
       "      <td>Spanish</td>\n",
       "      <td>228</td>\n",
       "      <td>3068</td>\n",
       "      <td>7</td>\n",
       "      <td>Foodies</td>\n",
       "      <td>08-12-2021</td>\n",
       "    </tr>\n",
       "    <tr>\n",
       "      <th>199997</th>\n",
       "      <td>199998</td>\n",
       "      <td>DataTech Solutions</td>\n",
       "      <td>Social Media</td>\n",
       "      <td>Men 18-24</td>\n",
       "      <td>45 days</td>\n",
       "      <td>Website</td>\n",
       "      <td>0.05</td>\n",
       "      <td>$13,397.00</td>\n",
       "      <td>3.25</td>\n",
       "      <td>New York</td>\n",
       "      <td>Mandarin</td>\n",
       "      <td>723</td>\n",
       "      <td>9548</td>\n",
       "      <td>3</td>\n",
       "      <td>Tech Enthusiasts</td>\n",
       "      <td>09-12-2021</td>\n",
       "    </tr>\n",
       "    <tr>\n",
       "      <th>199998</th>\n",
       "      <td>199999</td>\n",
       "      <td>Innovate Industries</td>\n",
       "      <td>Influencer</td>\n",
       "      <td>All Ages</td>\n",
       "      <td>30 days</td>\n",
       "      <td>YouTube</td>\n",
       "      <td>0.10</td>\n",
       "      <td>$18,508.00</td>\n",
       "      <td>3.86</td>\n",
       "      <td>Houston</td>\n",
       "      <td>French</td>\n",
       "      <td>528</td>\n",
       "      <td>2763</td>\n",
       "      <td>1</td>\n",
       "      <td>Foodies</td>\n",
       "      <td>10-12-2021</td>\n",
       "    </tr>\n",
       "    <tr>\n",
       "      <th>199999</th>\n",
       "      <td>200000</td>\n",
       "      <td>Innovate Industries</td>\n",
       "      <td>Social Media</td>\n",
       "      <td>Women 35-44</td>\n",
       "      <td>45 days</td>\n",
       "      <td>Google Ads</td>\n",
       "      <td>0.01</td>\n",
       "      <td>$13,835.00</td>\n",
       "      <td>6.64</td>\n",
       "      <td>Chicago</td>\n",
       "      <td>Spanish</td>\n",
       "      <td>924</td>\n",
       "      <td>7287</td>\n",
       "      <td>8</td>\n",
       "      <td>Tech Enthusiasts</td>\n",
       "      <td>11-12-2021</td>\n",
       "    </tr>\n",
       "  </tbody>\n",
       "</table>\n",
       "<p>200000 rows × 16 columns</p>\n",
       "</div>"
      ],
      "text/plain": [
       "        Campaign_ID              Company Campaign_Type Target_Audience  \\\n",
       "0                 1  Innovate Industries         Email       Men 18-24   \n",
       "1                 2       NexGen Systems         Email     Women 35-44   \n",
       "2                 3    Alpha Innovations    Influencer       Men 25-34   \n",
       "3                 4   DataTech Solutions       Display        All Ages   \n",
       "4                 5       NexGen Systems         Email       Men 25-34   \n",
       "...             ...                  ...           ...             ...   \n",
       "199995       199996             TechCorp       Display        All Ages   \n",
       "199996       199997   DataTech Solutions         Email       Men 25-34   \n",
       "199997       199998   DataTech Solutions  Social Media       Men 18-24   \n",
       "199998       199999  Innovate Industries    Influencer        All Ages   \n",
       "199999       200000  Innovate Industries  Social Media     Women 35-44   \n",
       "\n",
       "       Duration Channel_Used  Conversion_Rate Acquisition_Cost   ROI  \\\n",
       "0       30 days   Google Ads             0.04       $16,174.00  6.29   \n",
       "1       60 days   Google Ads             0.12       $11,566.00  5.61   \n",
       "2       30 days      YouTube             0.07       $10,200.00  7.18   \n",
       "3       60 days      YouTube             0.11       $12,724.00  5.55   \n",
       "4       15 days      YouTube             0.05       $16,452.00  6.50   \n",
       "...         ...          ...              ...              ...   ...   \n",
       "199995  30 days   Google Ads             0.06       $18,365.00  2.84   \n",
       "199996  15 days     Facebook             0.02        $8,168.00  4.14   \n",
       "199997  45 days      Website             0.05       $13,397.00  3.25   \n",
       "199998  30 days      YouTube             0.10       $18,508.00  3.86   \n",
       "199999  45 days   Google Ads             0.01       $13,835.00  6.64   \n",
       "\n",
       "           Location  Language  Clicks  Impressions  Engagement_Score  \\\n",
       "0           Chicago   Spanish     506         1922                 6   \n",
       "1          New York    German     116         7523                 7   \n",
       "2       Los Angeles    French     584         7698                 1   \n",
       "3             Miami  Mandarin     217         1820                 7   \n",
       "4       Los Angeles  Mandarin     379         4201                 3   \n",
       "...             ...       ...     ...          ...               ...   \n",
       "199995      Chicago    German     858         5988                 1   \n",
       "199996      Chicago   Spanish     228         3068                 7   \n",
       "199997     New York  Mandarin     723         9548                 3   \n",
       "199998      Houston    French     528         2763                 1   \n",
       "199999      Chicago   Spanish     924         7287                 8   \n",
       "\n",
       "           Customer_Segment        Date  \n",
       "0         Health & Wellness  01-01-2021  \n",
       "1              Fashionistas  02-01-2021  \n",
       "2       Outdoor Adventurers  03-01-2021  \n",
       "3         Health & Wellness  04-01-2021  \n",
       "4         Health & Wellness  05-01-2021  \n",
       "...                     ...         ...  \n",
       "199995     Tech Enthusiasts  07-12-2021  \n",
       "199996              Foodies  08-12-2021  \n",
       "199997     Tech Enthusiasts  09-12-2021  \n",
       "199998              Foodies  10-12-2021  \n",
       "199999     Tech Enthusiasts  11-12-2021  \n",
       "\n",
       "[200000 rows x 16 columns]"
      ]
     },
     "execution_count": 2,
     "metadata": {},
     "output_type": "execute_result"
    }
   ],
   "source": [
    "df=pd.read_csv(\"D:/R/Capstone/Confirmed/marketing_campaign_dataset.csv\")\n",
    "df"
   ]
  },
  {
   "cell_type": "code",
   "execution_count": 3,
   "id": "1437da50-0c6f-4278-b13e-419488c22719",
   "metadata": {},
   "outputs": [],
   "source": [
    "df[\"EngagedResponse\"] = df['Engagement_Score'].apply(lambda x: 'Yes' if x >=6 else 'no')"
   ]
  },
  {
   "cell_type": "code",
   "execution_count": 4,
   "id": "4f10ece1-e0b9-415f-b630-864cd1c44fd8",
   "metadata": {},
   "outputs": [
    {
     "data": {
      "text/plain": [
       "0         0\n",
       "1         1\n",
       "2         1\n",
       "3         1\n",
       "4         0\n",
       "         ..\n",
       "199995    0\n",
       "199996    0\n",
       "199997    0\n",
       "199998    1\n",
       "199999    0\n",
       "Name: Conversion, Length: 200000, dtype: int64"
      ]
     },
     "execution_count": 4,
     "metadata": {},
     "output_type": "execute_result"
    }
   ],
   "source": [
    "df['Conversion']=df['Conversion_Rate'].apply(lambda x:1 if x>=0.07 else 0) \n",
    "df['Conversion']"
   ]
  },
  {
   "cell_type": "code",
   "execution_count": 5,
   "id": "ab5d3e25-772b-40c5-88e0-775f82acc5b7",
   "metadata": {},
   "outputs": [],
   "source": [
    "df[\"Engaged\"] = df['EngagedResponse'].apply(lambda x: 1 if x=='Yes' else 0)"
   ]
  },
  {
   "cell_type": "code",
   "execution_count": 6,
   "id": "7928eced-dccf-4d27-b7d4-3b18c0fc3c23",
   "metadata": {},
   "outputs": [
    {
     "data": {
      "text/html": [
       "<div>\n",
       "<style scoped>\n",
       "    .dataframe tbody tr th:only-of-type {\n",
       "        vertical-align: middle;\n",
       "    }\n",
       "\n",
       "    .dataframe tbody tr th {\n",
       "        vertical-align: top;\n",
       "    }\n",
       "\n",
       "    .dataframe thead th {\n",
       "        text-align: right;\n",
       "    }\n",
       "</style>\n",
       "<table border=\"1\" class=\"dataframe\">\n",
       "  <thead>\n",
       "    <tr style=\"text-align: right;\">\n",
       "      <th></th>\n",
       "      <th>Company</th>\n",
       "      <th>Target_Audience</th>\n",
       "      <th>Channel_Used</th>\n",
       "      <th>Customer_Segment</th>\n",
       "      <th>Campaign_Type</th>\n",
       "      <th>Engaged</th>\n",
       "      <th>Conversion</th>\n",
       "    </tr>\n",
       "  </thead>\n",
       "  <tbody>\n",
       "    <tr>\n",
       "      <th>0</th>\n",
       "      <td>Innovate Industries</td>\n",
       "      <td>Men 18-24</td>\n",
       "      <td>Google Ads</td>\n",
       "      <td>Health &amp; Wellness</td>\n",
       "      <td>Email</td>\n",
       "      <td>1</td>\n",
       "      <td>0</td>\n",
       "    </tr>\n",
       "    <tr>\n",
       "      <th>1</th>\n",
       "      <td>NexGen Systems</td>\n",
       "      <td>Women 35-44</td>\n",
       "      <td>Google Ads</td>\n",
       "      <td>Fashionistas</td>\n",
       "      <td>Email</td>\n",
       "      <td>1</td>\n",
       "      <td>1</td>\n",
       "    </tr>\n",
       "    <tr>\n",
       "      <th>2</th>\n",
       "      <td>Alpha Innovations</td>\n",
       "      <td>Men 25-34</td>\n",
       "      <td>YouTube</td>\n",
       "      <td>Outdoor Adventurers</td>\n",
       "      <td>Influencer</td>\n",
       "      <td>0</td>\n",
       "      <td>1</td>\n",
       "    </tr>\n",
       "    <tr>\n",
       "      <th>3</th>\n",
       "      <td>DataTech Solutions</td>\n",
       "      <td>All Ages</td>\n",
       "      <td>YouTube</td>\n",
       "      <td>Health &amp; Wellness</td>\n",
       "      <td>Display</td>\n",
       "      <td>1</td>\n",
       "      <td>1</td>\n",
       "    </tr>\n",
       "    <tr>\n",
       "      <th>4</th>\n",
       "      <td>NexGen Systems</td>\n",
       "      <td>Men 25-34</td>\n",
       "      <td>YouTube</td>\n",
       "      <td>Health &amp; Wellness</td>\n",
       "      <td>Email</td>\n",
       "      <td>0</td>\n",
       "      <td>0</td>\n",
       "    </tr>\n",
       "  </tbody>\n",
       "</table>\n",
       "</div>"
      ],
      "text/plain": [
       "               Company Target_Audience Channel_Used     Customer_Segment  \\\n",
       "0  Innovate Industries       Men 18-24   Google Ads    Health & Wellness   \n",
       "1       NexGen Systems     Women 35-44   Google Ads         Fashionistas   \n",
       "2    Alpha Innovations       Men 25-34      YouTube  Outdoor Adventurers   \n",
       "3   DataTech Solutions        All Ages      YouTube    Health & Wellness   \n",
       "4       NexGen Systems       Men 25-34      YouTube    Health & Wellness   \n",
       "\n",
       "  Campaign_Type  Engaged  Conversion  \n",
       "0         Email        1           0  \n",
       "1         Email        1           1  \n",
       "2    Influencer        0           1  \n",
       "3       Display        1           1  \n",
       "4         Email        0           0  "
      ]
     },
     "execution_count": 6,
     "metadata": {},
     "output_type": "execute_result"
    }
   ],
   "source": [
    "df_new=df[['Company','Target_Audience','Channel_Used','Customer_Segment','Campaign_Type','Engaged','Conversion']]\n",
    "df_new.head()"
   ]
  },
  {
   "cell_type": "code",
   "execution_count": 7,
   "id": "5b1285b8-13d0-4f0e-bd47-e7f4023b20e3",
   "metadata": {},
   "outputs": [
    {
     "name": "stderr",
     "output_type": "stream",
     "text": [
      "C:\\Users\\Tamil Selvan\\AppData\\Local\\Temp\\ipykernel_20844\\2466592120.py:5: SettingWithCopyWarning: \n",
      "A value is trying to be set on a copy of a slice from a DataFrame.\n",
      "Try using .loc[row_indexer,col_indexer] = value instead\n",
      "\n",
      "See the caveats in the documentation: https://pandas.pydata.org/pandas-docs/stable/user_guide/indexing.html#returning-a-view-versus-a-copy\n",
      "  df_new[col], _ = pd.factorize(df_new[col])\n",
      "C:\\Users\\Tamil Selvan\\AppData\\Local\\Temp\\ipykernel_20844\\2466592120.py:5: SettingWithCopyWarning: \n",
      "A value is trying to be set on a copy of a slice from a DataFrame.\n",
      "Try using .loc[row_indexer,col_indexer] = value instead\n",
      "\n",
      "See the caveats in the documentation: https://pandas.pydata.org/pandas-docs/stable/user_guide/indexing.html#returning-a-view-versus-a-copy\n",
      "  df_new[col], _ = pd.factorize(df_new[col])\n",
      "C:\\Users\\Tamil Selvan\\AppData\\Local\\Temp\\ipykernel_20844\\2466592120.py:5: SettingWithCopyWarning: \n",
      "A value is trying to be set on a copy of a slice from a DataFrame.\n",
      "Try using .loc[row_indexer,col_indexer] = value instead\n",
      "\n",
      "See the caveats in the documentation: https://pandas.pydata.org/pandas-docs/stable/user_guide/indexing.html#returning-a-view-versus-a-copy\n",
      "  df_new[col], _ = pd.factorize(df_new[col])\n",
      "C:\\Users\\Tamil Selvan\\AppData\\Local\\Temp\\ipykernel_20844\\2466592120.py:5: SettingWithCopyWarning: \n",
      "A value is trying to be set on a copy of a slice from a DataFrame.\n",
      "Try using .loc[row_indexer,col_indexer] = value instead\n",
      "\n",
      "See the caveats in the documentation: https://pandas.pydata.org/pandas-docs/stable/user_guide/indexing.html#returning-a-view-versus-a-copy\n",
      "  df_new[col], _ = pd.factorize(df_new[col])\n",
      "C:\\Users\\Tamil Selvan\\AppData\\Local\\Temp\\ipykernel_20844\\2466592120.py:5: SettingWithCopyWarning: \n",
      "A value is trying to be set on a copy of a slice from a DataFrame.\n",
      "Try using .loc[row_indexer,col_indexer] = value instead\n",
      "\n",
      "See the caveats in the documentation: https://pandas.pydata.org/pandas-docs/stable/user_guide/indexing.html#returning-a-view-versus-a-copy\n",
      "  df_new[col], _ = pd.factorize(df_new[col])\n"
     ]
    }
   ],
   "source": [
    "columns_to_encode = [\n",
    "    'Company','Target_Audience','Channel_Used','Customer_Segment','Campaign_Type'\n",
    "]\n",
    "for col in columns_to_encode:\n",
    "    df_new[col], _ = pd.factorize(df_new[col])\n"
   ]
  },
  {
   "cell_type": "code",
   "execution_count": 8,
   "id": "23c00c4e-6a25-49d2-bfa2-08ce4e21947d",
   "metadata": {},
   "outputs": [
    {
     "data": {
      "text/html": [
       "<div>\n",
       "<style scoped>\n",
       "    .dataframe tbody tr th:only-of-type {\n",
       "        vertical-align: middle;\n",
       "    }\n",
       "\n",
       "    .dataframe tbody tr th {\n",
       "        vertical-align: top;\n",
       "    }\n",
       "\n",
       "    .dataframe thead th {\n",
       "        text-align: right;\n",
       "    }\n",
       "</style>\n",
       "<table border=\"1\" class=\"dataframe\">\n",
       "  <thead>\n",
       "    <tr style=\"text-align: right;\">\n",
       "      <th></th>\n",
       "      <th>Company</th>\n",
       "      <th>Target_Audience</th>\n",
       "      <th>Channel_Used</th>\n",
       "      <th>Customer_Segment</th>\n",
       "      <th>Campaign_Type</th>\n",
       "      <th>Engaged</th>\n",
       "      <th>Conversion</th>\n",
       "    </tr>\n",
       "  </thead>\n",
       "  <tbody>\n",
       "    <tr>\n",
       "      <th>0</th>\n",
       "      <td>0</td>\n",
       "      <td>0</td>\n",
       "      <td>0</td>\n",
       "      <td>0</td>\n",
       "      <td>0</td>\n",
       "      <td>1</td>\n",
       "      <td>0</td>\n",
       "    </tr>\n",
       "    <tr>\n",
       "      <th>1</th>\n",
       "      <td>1</td>\n",
       "      <td>1</td>\n",
       "      <td>0</td>\n",
       "      <td>1</td>\n",
       "      <td>0</td>\n",
       "      <td>1</td>\n",
       "      <td>1</td>\n",
       "    </tr>\n",
       "    <tr>\n",
       "      <th>2</th>\n",
       "      <td>2</td>\n",
       "      <td>2</td>\n",
       "      <td>1</td>\n",
       "      <td>2</td>\n",
       "      <td>1</td>\n",
       "      <td>0</td>\n",
       "      <td>1</td>\n",
       "    </tr>\n",
       "    <tr>\n",
       "      <th>3</th>\n",
       "      <td>3</td>\n",
       "      <td>3</td>\n",
       "      <td>1</td>\n",
       "      <td>0</td>\n",
       "      <td>2</td>\n",
       "      <td>1</td>\n",
       "      <td>1</td>\n",
       "    </tr>\n",
       "    <tr>\n",
       "      <th>4</th>\n",
       "      <td>1</td>\n",
       "      <td>2</td>\n",
       "      <td>1</td>\n",
       "      <td>0</td>\n",
       "      <td>0</td>\n",
       "      <td>0</td>\n",
       "      <td>0</td>\n",
       "    </tr>\n",
       "  </tbody>\n",
       "</table>\n",
       "</div>"
      ],
      "text/plain": [
       "   Company  Target_Audience  Channel_Used  Customer_Segment  Campaign_Type  \\\n",
       "0        0                0             0                 0              0   \n",
       "1        1                1             0                 1              0   \n",
       "2        2                2             1                 2              1   \n",
       "3        3                3             1                 0              2   \n",
       "4        1                2             1                 0              0   \n",
       "\n",
       "   Engaged  Conversion  \n",
       "0        1           0  \n",
       "1        1           1  \n",
       "2        0           1  \n",
       "3        1           1  \n",
       "4        0           0  "
      ]
     },
     "execution_count": 8,
     "metadata": {},
     "output_type": "execute_result"
    }
   ],
   "source": [
    "df_new.head()"
   ]
  },
  {
   "cell_type": "code",
   "execution_count": 9,
   "id": "5cc0dba1-0060-40f5-afe7-cc8a8ecde6ed",
   "metadata": {},
   "outputs": [],
   "source": [
    "X = df_new[['Company','Target_Audience','Channel_Used','Customer_Segment','Campaign_Type']]"
   ]
  },
  {
   "cell_type": "code",
   "execution_count": 10,
   "id": "2ddfea33-f5ea-4c46-bc78-3f79bd12328c",
   "metadata": {},
   "outputs": [],
   "source": [
    "y = df_new[['Conversion']]"
   ]
  },
  {
   "cell_type": "code",
   "execution_count": 11,
   "id": "92bbf803-6218-4f02-b750-a54672474ce8",
   "metadata": {},
   "outputs": [],
   "source": [
    "X_train, X_test, y_train, y_test = train_test_split(X,y,test_size=0.3,train_size=0.7,random_state=42)"
   ]
  },
  {
   "cell_type": "code",
   "execution_count": 12,
   "id": "43482e78-11cf-46f7-9c61-450bab31869a",
   "metadata": {},
   "outputs": [
    {
     "data": {
      "text/plain": [
       "(140000, 5)"
      ]
     },
     "execution_count": 12,
     "metadata": {},
     "output_type": "execute_result"
    }
   ],
   "source": [
    "X_train.shape"
   ]
  },
  {
   "cell_type": "code",
   "execution_count": 13,
   "id": "c34d4b21-16ee-41b1-93d7-faaefcf18dd2",
   "metadata": {},
   "outputs": [
    {
     "data": {
      "text/plain": [
       "(60000, 5)"
      ]
     },
     "execution_count": 13,
     "metadata": {},
     "output_type": "execute_result"
    }
   ],
   "source": [
    "X_test.shape"
   ]
  },
  {
   "cell_type": "code",
   "execution_count": 14,
   "id": "46aab61b-5fb4-462f-aec6-e4b5585000d9",
   "metadata": {},
   "outputs": [
    {
     "data": {
      "text/plain": [
       "(140000, 1)"
      ]
     },
     "execution_count": 14,
     "metadata": {},
     "output_type": "execute_result"
    }
   ],
   "source": [
    "y_train.shape"
   ]
  },
  {
   "cell_type": "code",
   "execution_count": 15,
   "id": "cf29c868-259b-44e3-a522-5e247546c3d6",
   "metadata": {},
   "outputs": [
    {
     "data": {
      "text/plain": [
       "(60000, 1)"
      ]
     },
     "execution_count": 15,
     "metadata": {},
     "output_type": "execute_result"
    }
   ],
   "source": [
    "y_test.shape"
   ]
  },
  {
   "cell_type": "code",
   "execution_count": 16,
   "id": "3c242ac3-f100-4e0a-a0e1-e172d0ab62fb",
   "metadata": {},
   "outputs": [
    {
     "name": "stdout",
     "output_type": "stream",
     "text": [
      "Optimization terminated successfully.\n",
      "         Current function value: 0.671942\n",
      "         Iterations 4\n"
     ]
    }
   ],
   "source": [
    "model = sm.Logit(y,X)\n",
    "result = model.fit()"
   ]
  },
  {
   "cell_type": "code",
   "execution_count": 17,
   "id": "00729811-bfb9-4ca3-bf0d-301b878e9490",
   "metadata": {},
   "outputs": [
    {
     "data": {
      "text/html": [
       "<table class=\"simpletable\">\n",
       "<caption>Logit Regression Results</caption>\n",
       "<tr>\n",
       "  <th>Dep. Variable:</th>      <td>Conversion</td>    <th>  No. Observations:  </th>   <td>200000</td>   \n",
       "</tr>\n",
       "<tr>\n",
       "  <th>Model:</th>                 <td>Logit</td>      <th>  Df Residuals:      </th>   <td>199995</td>   \n",
       "</tr>\n",
       "<tr>\n",
       "  <th>Method:</th>                 <td>MLE</td>       <th>  Df Model:          </th>   <td>     4</td>   \n",
       "</tr>\n",
       "<tr>\n",
       "  <th>Date:</th>            <td>Thu, 06 Jun 2024</td> <th>  Pseudo R-squ.:     </th>  <td>-0.003057</td> \n",
       "</tr>\n",
       "<tr>\n",
       "  <th>Time:</th>                <td>15:31:03</td>     <th>  Log-Likelihood:    </th> <td>-1.3439e+05</td>\n",
       "</tr>\n",
       "<tr>\n",
       "  <th>converged:</th>             <td>True</td>       <th>  LL-Null:           </th> <td>-1.3398e+05</td>\n",
       "</tr>\n",
       "<tr>\n",
       "  <th>Covariance Type:</th>     <td>nonrobust</td>    <th>  LLR p-value:       </th>   <td> 1.000</td>   \n",
       "</tr>\n",
       "</table>\n",
       "<table class=\"simpletable\">\n",
       "<tr>\n",
       "          <td></td>            <th>coef</th>     <th>std err</th>      <th>z</th>      <th>P>|z|</th>  <th>[0.025</th>    <th>0.975]</th>  \n",
       "</tr>\n",
       "<tr>\n",
       "  <th>Company</th>          <td>    0.0376</td> <td>    0.003</td> <td>   12.888</td> <td> 0.000</td> <td>    0.032</td> <td>    0.043</td>\n",
       "</tr>\n",
       "<tr>\n",
       "  <th>Target_Audience</th>  <td>    0.0345</td> <td>    0.003</td> <td>   11.792</td> <td> 0.000</td> <td>    0.029</td> <td>    0.040</td>\n",
       "</tr>\n",
       "<tr>\n",
       "  <th>Channel_Used</th>     <td>    0.0352</td> <td>    0.002</td> <td>   14.637</td> <td> 0.000</td> <td>    0.030</td> <td>    0.040</td>\n",
       "</tr>\n",
       "<tr>\n",
       "  <th>Customer_Segment</th> <td>    0.0420</td> <td>    0.003</td> <td>   14.342</td> <td> 0.000</td> <td>    0.036</td> <td>    0.048</td>\n",
       "</tr>\n",
       "<tr>\n",
       "  <th>Campaign_Type</th>    <td>    0.0411</td> <td>    0.003</td> <td>   14.030</td> <td> 0.000</td> <td>    0.035</td> <td>    0.047</td>\n",
       "</tr>\n",
       "</table>"
      ],
      "text/plain": [
       "<class 'statsmodels.iolib.summary.Summary'>\n",
       "\"\"\"\n",
       "                           Logit Regression Results                           \n",
       "==============================================================================\n",
       "Dep. Variable:             Conversion   No. Observations:               200000\n",
       "Model:                          Logit   Df Residuals:                   199995\n",
       "Method:                           MLE   Df Model:                            4\n",
       "Date:                Thu, 06 Jun 2024   Pseudo R-squ.:               -0.003057\n",
       "Time:                        15:31:03   Log-Likelihood:            -1.3439e+05\n",
       "converged:                       True   LL-Null:                   -1.3398e+05\n",
       "Covariance Type:            nonrobust   LLR p-value:                     1.000\n",
       "====================================================================================\n",
       "                       coef    std err          z      P>|z|      [0.025      0.975]\n",
       "------------------------------------------------------------------------------------\n",
       "Company              0.0376      0.003     12.888      0.000       0.032       0.043\n",
       "Target_Audience      0.0345      0.003     11.792      0.000       0.029       0.040\n",
       "Channel_Used         0.0352      0.002     14.637      0.000       0.030       0.040\n",
       "Customer_Segment     0.0420      0.003     14.342      0.000       0.036       0.048\n",
       "Campaign_Type        0.0411      0.003     14.030      0.000       0.035       0.047\n",
       "====================================================================================\n",
       "\"\"\""
      ]
     },
     "execution_count": 17,
     "metadata": {},
     "output_type": "execute_result"
    }
   ],
   "source": [
    "result.summary()"
   ]
  },
  {
   "cell_type": "code",
   "execution_count": 18,
   "id": "ff6c161f-f662-4778-a549-232b46c6168e",
   "metadata": {},
   "outputs": [
    {
     "name": "stderr",
     "output_type": "stream",
     "text": [
      "D:\\AN\\AnacondaNavigator\\Lib\\site-packages\\sklearn\\utils\\validation.py:1143: DataConversionWarning: A column-vector y was passed when a 1d array was expected. Please change the shape of y to (n_samples, ), for example using ravel().\n",
      "  y = column_or_1d(y, warn=True)\n"
     ]
    },
    {
     "data": {
      "text/html": [
       "<style>#sk-container-id-1 {color: black;background-color: white;}#sk-container-id-1 pre{padding: 0;}#sk-container-id-1 div.sk-toggleable {background-color: white;}#sk-container-id-1 label.sk-toggleable__label {cursor: pointer;display: block;width: 100%;margin-bottom: 0;padding: 0.3em;box-sizing: border-box;text-align: center;}#sk-container-id-1 label.sk-toggleable__label-arrow:before {content: \"▸\";float: left;margin-right: 0.25em;color: #696969;}#sk-container-id-1 label.sk-toggleable__label-arrow:hover:before {color: black;}#sk-container-id-1 div.sk-estimator:hover label.sk-toggleable__label-arrow:before {color: black;}#sk-container-id-1 div.sk-toggleable__content {max-height: 0;max-width: 0;overflow: hidden;text-align: left;background-color: #f0f8ff;}#sk-container-id-1 div.sk-toggleable__content pre {margin: 0.2em;color: black;border-radius: 0.25em;background-color: #f0f8ff;}#sk-container-id-1 input.sk-toggleable__control:checked~div.sk-toggleable__content {max-height: 200px;max-width: 100%;overflow: auto;}#sk-container-id-1 input.sk-toggleable__control:checked~label.sk-toggleable__label-arrow:before {content: \"▾\";}#sk-container-id-1 div.sk-estimator input.sk-toggleable__control:checked~label.sk-toggleable__label {background-color: #d4ebff;}#sk-container-id-1 div.sk-label input.sk-toggleable__control:checked~label.sk-toggleable__label {background-color: #d4ebff;}#sk-container-id-1 input.sk-hidden--visually {border: 0;clip: rect(1px 1px 1px 1px);clip: rect(1px, 1px, 1px, 1px);height: 1px;margin: -1px;overflow: hidden;padding: 0;position: absolute;width: 1px;}#sk-container-id-1 div.sk-estimator {font-family: monospace;background-color: #f0f8ff;border: 1px dotted black;border-radius: 0.25em;box-sizing: border-box;margin-bottom: 0.5em;}#sk-container-id-1 div.sk-estimator:hover {background-color: #d4ebff;}#sk-container-id-1 div.sk-parallel-item::after {content: \"\";width: 100%;border-bottom: 1px solid gray;flex-grow: 1;}#sk-container-id-1 div.sk-label:hover label.sk-toggleable__label {background-color: #d4ebff;}#sk-container-id-1 div.sk-serial::before {content: \"\";position: absolute;border-left: 1px solid gray;box-sizing: border-box;top: 0;bottom: 0;left: 50%;z-index: 0;}#sk-container-id-1 div.sk-serial {display: flex;flex-direction: column;align-items: center;background-color: white;padding-right: 0.2em;padding-left: 0.2em;position: relative;}#sk-container-id-1 div.sk-item {position: relative;z-index: 1;}#sk-container-id-1 div.sk-parallel {display: flex;align-items: stretch;justify-content: center;background-color: white;position: relative;}#sk-container-id-1 div.sk-item::before, #sk-container-id-1 div.sk-parallel-item::before {content: \"\";position: absolute;border-left: 1px solid gray;box-sizing: border-box;top: 0;bottom: 0;left: 50%;z-index: -1;}#sk-container-id-1 div.sk-parallel-item {display: flex;flex-direction: column;z-index: 1;position: relative;background-color: white;}#sk-container-id-1 div.sk-parallel-item:first-child::after {align-self: flex-end;width: 50%;}#sk-container-id-1 div.sk-parallel-item:last-child::after {align-self: flex-start;width: 50%;}#sk-container-id-1 div.sk-parallel-item:only-child::after {width: 0;}#sk-container-id-1 div.sk-dashed-wrapped {border: 1px dashed gray;margin: 0 0.4em 0.5em 0.4em;box-sizing: border-box;padding-bottom: 0.4em;background-color: white;}#sk-container-id-1 div.sk-label label {font-family: monospace;font-weight: bold;display: inline-block;line-height: 1.2em;}#sk-container-id-1 div.sk-label-container {text-align: center;}#sk-container-id-1 div.sk-container {/* jupyter's `normalize.less` sets `[hidden] { display: none; }` but bootstrap.min.css set `[hidden] { display: none !important; }` so we also need the `!important` here to be able to override the default hidden behavior on the sphinx rendered scikit-learn.org. See: https://github.com/scikit-learn/scikit-learn/issues/21755 */display: inline-block !important;position: relative;}#sk-container-id-1 div.sk-text-repr-fallback {display: none;}</style><div id=\"sk-container-id-1\" class=\"sk-top-container\"><div class=\"sk-text-repr-fallback\"><pre>LogisticRegression()</pre><b>In a Jupyter environment, please rerun this cell to show the HTML representation or trust the notebook. <br />On GitHub, the HTML representation is unable to render, please try loading this page with nbviewer.org.</b></div><div class=\"sk-container\" hidden><div class=\"sk-item\"><div class=\"sk-estimator sk-toggleable\"><input class=\"sk-toggleable__control sk-hidden--visually\" id=\"sk-estimator-id-1\" type=\"checkbox\" checked><label for=\"sk-estimator-id-1\" class=\"sk-toggleable__label sk-toggleable__label-arrow\">LogisticRegression</label><div class=\"sk-toggleable__content\"><pre>LogisticRegression()</pre></div></div></div></div></div>"
      ],
      "text/plain": [
       "LogisticRegression()"
      ]
     },
     "execution_count": 18,
     "metadata": {},
     "output_type": "execute_result"
    }
   ],
   "source": [
    "logreg = LogisticRegression()\n",
    "logreg.fit(X_train, y_train)"
   ]
  },
  {
   "cell_type": "code",
   "execution_count": 19,
   "id": "2c2c4c8b-b989-498b-b2b2-7ef4440060b0",
   "metadata": {},
   "outputs": [],
   "source": [
    "y_pred = logreg.predict(X_test)"
   ]
  },
  {
   "cell_type": "code",
   "execution_count": 20,
   "id": "b79b551f-0fb2-4bf1-9c8c-97c352e19330",
   "metadata": {},
   "outputs": [
    {
     "name": "stdout",
     "output_type": "stream",
     "text": [
      "Accuracy: 0.61\n",
      "Precision: 0.61\n",
      "F1 Score: 0.76\n"
     ]
    }
   ],
   "source": [
    "accuracy = metrics.accuracy_score(y_test, y_pred)\n",
    "precision = precision_score(y_test, y_pred)\n",
    "f1 = f1_score(y_test, y_pred)\n",
    "print(f\"Accuracy: {accuracy:.2f}\")\n",
    "print(f\"Precision: {precision:.2f}\")\n",
    "print(f\"F1 Score: {f1:.2f}\")"
   ]
  },
  {
   "cell_type": "code",
   "execution_count": 21,
   "id": "e3b0761d-fd12-40c8-a9f0-95a0f990ff51",
   "metadata": {},
   "outputs": [],
   "source": [
    "rf_model = RandomForestClassifier(\n",
    "    n_estimators=200,\n",
    "    max_depth=5  \n",
    ")"
   ]
  },
  {
   "cell_type": "code",
   "execution_count": 22,
   "id": "c1b39ef3-1803-40a3-937f-98a7860da779",
   "metadata": {},
   "outputs": [
    {
     "name": "stderr",
     "output_type": "stream",
     "text": [
      "C:\\Users\\Tamil Selvan\\AppData\\Local\\Temp\\ipykernel_20844\\3758097093.py:1: DataConversionWarning: A column-vector y was passed when a 1d array was expected. Please change the shape of y to (n_samples,), for example using ravel().\n",
      "  rf_model.fit(X=X_train, y=y_train)\n"
     ]
    },
    {
     "data": {
      "text/html": [
       "<style>#sk-container-id-2 {color: black;background-color: white;}#sk-container-id-2 pre{padding: 0;}#sk-container-id-2 div.sk-toggleable {background-color: white;}#sk-container-id-2 label.sk-toggleable__label {cursor: pointer;display: block;width: 100%;margin-bottom: 0;padding: 0.3em;box-sizing: border-box;text-align: center;}#sk-container-id-2 label.sk-toggleable__label-arrow:before {content: \"▸\";float: left;margin-right: 0.25em;color: #696969;}#sk-container-id-2 label.sk-toggleable__label-arrow:hover:before {color: black;}#sk-container-id-2 div.sk-estimator:hover label.sk-toggleable__label-arrow:before {color: black;}#sk-container-id-2 div.sk-toggleable__content {max-height: 0;max-width: 0;overflow: hidden;text-align: left;background-color: #f0f8ff;}#sk-container-id-2 div.sk-toggleable__content pre {margin: 0.2em;color: black;border-radius: 0.25em;background-color: #f0f8ff;}#sk-container-id-2 input.sk-toggleable__control:checked~div.sk-toggleable__content {max-height: 200px;max-width: 100%;overflow: auto;}#sk-container-id-2 input.sk-toggleable__control:checked~label.sk-toggleable__label-arrow:before {content: \"▾\";}#sk-container-id-2 div.sk-estimator input.sk-toggleable__control:checked~label.sk-toggleable__label {background-color: #d4ebff;}#sk-container-id-2 div.sk-label input.sk-toggleable__control:checked~label.sk-toggleable__label {background-color: #d4ebff;}#sk-container-id-2 input.sk-hidden--visually {border: 0;clip: rect(1px 1px 1px 1px);clip: rect(1px, 1px, 1px, 1px);height: 1px;margin: -1px;overflow: hidden;padding: 0;position: absolute;width: 1px;}#sk-container-id-2 div.sk-estimator {font-family: monospace;background-color: #f0f8ff;border: 1px dotted black;border-radius: 0.25em;box-sizing: border-box;margin-bottom: 0.5em;}#sk-container-id-2 div.sk-estimator:hover {background-color: #d4ebff;}#sk-container-id-2 div.sk-parallel-item::after {content: \"\";width: 100%;border-bottom: 1px solid gray;flex-grow: 1;}#sk-container-id-2 div.sk-label:hover label.sk-toggleable__label {background-color: #d4ebff;}#sk-container-id-2 div.sk-serial::before {content: \"\";position: absolute;border-left: 1px solid gray;box-sizing: border-box;top: 0;bottom: 0;left: 50%;z-index: 0;}#sk-container-id-2 div.sk-serial {display: flex;flex-direction: column;align-items: center;background-color: white;padding-right: 0.2em;padding-left: 0.2em;position: relative;}#sk-container-id-2 div.sk-item {position: relative;z-index: 1;}#sk-container-id-2 div.sk-parallel {display: flex;align-items: stretch;justify-content: center;background-color: white;position: relative;}#sk-container-id-2 div.sk-item::before, #sk-container-id-2 div.sk-parallel-item::before {content: \"\";position: absolute;border-left: 1px solid gray;box-sizing: border-box;top: 0;bottom: 0;left: 50%;z-index: -1;}#sk-container-id-2 div.sk-parallel-item {display: flex;flex-direction: column;z-index: 1;position: relative;background-color: white;}#sk-container-id-2 div.sk-parallel-item:first-child::after {align-self: flex-end;width: 50%;}#sk-container-id-2 div.sk-parallel-item:last-child::after {align-self: flex-start;width: 50%;}#sk-container-id-2 div.sk-parallel-item:only-child::after {width: 0;}#sk-container-id-2 div.sk-dashed-wrapped {border: 1px dashed gray;margin: 0 0.4em 0.5em 0.4em;box-sizing: border-box;padding-bottom: 0.4em;background-color: white;}#sk-container-id-2 div.sk-label label {font-family: monospace;font-weight: bold;display: inline-block;line-height: 1.2em;}#sk-container-id-2 div.sk-label-container {text-align: center;}#sk-container-id-2 div.sk-container {/* jupyter's `normalize.less` sets `[hidden] { display: none; }` but bootstrap.min.css set `[hidden] { display: none !important; }` so we also need the `!important` here to be able to override the default hidden behavior on the sphinx rendered scikit-learn.org. See: https://github.com/scikit-learn/scikit-learn/issues/21755 */display: inline-block !important;position: relative;}#sk-container-id-2 div.sk-text-repr-fallback {display: none;}</style><div id=\"sk-container-id-2\" class=\"sk-top-container\"><div class=\"sk-text-repr-fallback\"><pre>RandomForestClassifier(max_depth=5, n_estimators=200)</pre><b>In a Jupyter environment, please rerun this cell to show the HTML representation or trust the notebook. <br />On GitHub, the HTML representation is unable to render, please try loading this page with nbviewer.org.</b></div><div class=\"sk-container\" hidden><div class=\"sk-item\"><div class=\"sk-estimator sk-toggleable\"><input class=\"sk-toggleable__control sk-hidden--visually\" id=\"sk-estimator-id-2\" type=\"checkbox\" checked><label for=\"sk-estimator-id-2\" class=\"sk-toggleable__label sk-toggleable__label-arrow\">RandomForestClassifier</label><div class=\"sk-toggleable__content\"><pre>RandomForestClassifier(max_depth=5, n_estimators=200)</pre></div></div></div></div></div>"
      ],
      "text/plain": [
       "RandomForestClassifier(max_depth=5, n_estimators=200)"
      ]
     },
     "execution_count": 22,
     "metadata": {},
     "output_type": "execute_result"
    }
   ],
   "source": [
    "rf_model.fit(X=X_train, y=y_train)"
   ]
  },
  {
   "cell_type": "code",
   "execution_count": 23,
   "id": "319b17b5-09d3-4eeb-b72f-70bfb666a214",
   "metadata": {
    "scrolled": true
   },
   "outputs": [
    {
     "data": {
      "text/plain": [
       "[DecisionTreeClassifier(max_depth=5, max_features='sqrt', random_state=154382278),\n",
       " DecisionTreeClassifier(max_depth=5, max_features='sqrt', random_state=695214414),\n",
       " DecisionTreeClassifier(max_depth=5, max_features='sqrt',\n",
       "                        random_state=1035224568),\n",
       " DecisionTreeClassifier(max_depth=5, max_features='sqrt', random_state=846757374),\n",
       " DecisionTreeClassifier(max_depth=5, max_features='sqrt',\n",
       "                        random_state=1003058726),\n",
       " DecisionTreeClassifier(max_depth=5, max_features='sqrt',\n",
       "                        random_state=1850506490),\n",
       " DecisionTreeClassifier(max_depth=5, max_features='sqrt', random_state=340711280),\n",
       " DecisionTreeClassifier(max_depth=5, max_features='sqrt', random_state=572702300),\n",
       " DecisionTreeClassifier(max_depth=5, max_features='sqrt', random_state=33549290),\n",
       " DecisionTreeClassifier(max_depth=5, max_features='sqrt', random_state=738527780),\n",
       " DecisionTreeClassifier(max_depth=5, max_features='sqrt', random_state=431015467),\n",
       " DecisionTreeClassifier(max_depth=5, max_features='sqrt', random_state=912087953),\n",
       " DecisionTreeClassifier(max_depth=5, max_features='sqrt',\n",
       "                        random_state=1686537011),\n",
       " DecisionTreeClassifier(max_depth=5, max_features='sqrt', random_state=875014404),\n",
       " DecisionTreeClassifier(max_depth=5, max_features='sqrt',\n",
       "                        random_state=1264143047),\n",
       " DecisionTreeClassifier(max_depth=5, max_features='sqrt',\n",
       "                        random_state=1004343042),\n",
       " DecisionTreeClassifier(max_depth=5, max_features='sqrt', random_state=333106559),\n",
       " DecisionTreeClassifier(max_depth=5, max_features='sqrt', random_state=982639422),\n",
       " DecisionTreeClassifier(max_depth=5, max_features='sqrt', random_state=137049319),\n",
       " DecisionTreeClassifier(max_depth=5, max_features='sqrt',\n",
       "                        random_state=1052556081),\n",
       " DecisionTreeClassifier(max_depth=5, max_features='sqrt',\n",
       "                        random_state=1745316559),\n",
       " DecisionTreeClassifier(max_depth=5, max_features='sqrt', random_state=134941227),\n",
       " DecisionTreeClassifier(max_depth=5, max_features='sqrt', random_state=493305854),\n",
       " DecisionTreeClassifier(max_depth=5, max_features='sqrt', random_state=226049913),\n",
       " DecisionTreeClassifier(max_depth=5, max_features='sqrt', random_state=62779065),\n",
       " DecisionTreeClassifier(max_depth=5, max_features='sqrt', random_state=771679373),\n",
       " DecisionTreeClassifier(max_depth=5, max_features='sqrt', random_state=706155096),\n",
       " DecisionTreeClassifier(max_depth=5, max_features='sqrt',\n",
       "                        random_state=1914872216),\n",
       " DecisionTreeClassifier(max_depth=5, max_features='sqrt',\n",
       "                        random_state=1714221653),\n",
       " DecisionTreeClassifier(max_depth=5, max_features='sqrt',\n",
       "                        random_state=1790652649),\n",
       " DecisionTreeClassifier(max_depth=5, max_features='sqrt',\n",
       "                        random_state=1433083383),\n",
       " DecisionTreeClassifier(max_depth=5, max_features='sqrt',\n",
       "                        random_state=2066388657),\n",
       " DecisionTreeClassifier(max_depth=5, max_features='sqrt',\n",
       "                        random_state=1281123888),\n",
       " DecisionTreeClassifier(max_depth=5, max_features='sqrt', random_state=392665518),\n",
       " DecisionTreeClassifier(max_depth=5, max_features='sqrt',\n",
       "                        random_state=1093519206),\n",
       " DecisionTreeClassifier(max_depth=5, max_features='sqrt',\n",
       "                        random_state=1912162655),\n",
       " DecisionTreeClassifier(max_depth=5, max_features='sqrt',\n",
       "                        random_state=1602479341),\n",
       " DecisionTreeClassifier(max_depth=5, max_features='sqrt', random_state=791321364),\n",
       " DecisionTreeClassifier(max_depth=5, max_features='sqrt',\n",
       "                        random_state=1638800639),\n",
       " DecisionTreeClassifier(max_depth=5, max_features='sqrt',\n",
       "                        random_state=1582287502),\n",
       " DecisionTreeClassifier(max_depth=5, max_features='sqrt', random_state=785371811),\n",
       " DecisionTreeClassifier(max_depth=5, max_features='sqrt',\n",
       "                        random_state=1297250430),\n",
       " DecisionTreeClassifier(max_depth=5, max_features='sqrt', random_state=599398023),\n",
       " DecisionTreeClassifier(max_depth=5, max_features='sqrt',\n",
       "                        random_state=1056530892),\n",
       " DecisionTreeClassifier(max_depth=5, max_features='sqrt', random_state=995419267),\n",
       " DecisionTreeClassifier(max_depth=5, max_features='sqrt', random_state=262252812),\n",
       " DecisionTreeClassifier(max_depth=5, max_features='sqrt', random_state=970995712),\n",
       " DecisionTreeClassifier(max_depth=5, max_features='sqrt',\n",
       "                        random_state=2055487967),\n",
       " DecisionTreeClassifier(max_depth=5, max_features='sqrt', random_state=268591924),\n",
       " DecisionTreeClassifier(max_depth=5, max_features='sqrt',\n",
       "                        random_state=1978157055),\n",
       " DecisionTreeClassifier(max_depth=5, max_features='sqrt', random_state=477021226),\n",
       " DecisionTreeClassifier(max_depth=5, max_features='sqrt', random_state=241690488),\n",
       " DecisionTreeClassifier(max_depth=5, max_features='sqrt', random_state=769605596),\n",
       " DecisionTreeClassifier(max_depth=5, max_features='sqrt',\n",
       "                        random_state=1624491052),\n",
       " DecisionTreeClassifier(max_depth=5, max_features='sqrt', random_state=482750557),\n",
       " DecisionTreeClassifier(max_depth=5, max_features='sqrt', random_state=526545148),\n",
       " DecisionTreeClassifier(max_depth=5, max_features='sqrt',\n",
       "                        random_state=1394629854),\n",
       " DecisionTreeClassifier(max_depth=5, max_features='sqrt',\n",
       "                        random_state=1324253966),\n",
       " DecisionTreeClassifier(max_depth=5, max_features='sqrt',\n",
       "                        random_state=1266393426),\n",
       " DecisionTreeClassifier(max_depth=5, max_features='sqrt',\n",
       "                        random_state=2046601433),\n",
       " DecisionTreeClassifier(max_depth=5, max_features='sqrt', random_state=540671531),\n",
       " DecisionTreeClassifier(max_depth=5, max_features='sqrt',\n",
       "                        random_state=1550040205),\n",
       " DecisionTreeClassifier(max_depth=5, max_features='sqrt', random_state=418543578),\n",
       " DecisionTreeClassifier(max_depth=5, max_features='sqrt', random_state=720881713),\n",
       " DecisionTreeClassifier(max_depth=5, max_features='sqrt', random_state=699941363),\n",
       " DecisionTreeClassifier(max_depth=5, max_features='sqrt',\n",
       "                        random_state=1261548976),\n",
       " DecisionTreeClassifier(max_depth=5, max_features='sqrt',\n",
       "                        random_state=2034285022),\n",
       " DecisionTreeClassifier(max_depth=5, max_features='sqrt', random_state=702014828),\n",
       " DecisionTreeClassifier(max_depth=5, max_features='sqrt', random_state=91859700),\n",
       " DecisionTreeClassifier(max_depth=5, max_features='sqrt',\n",
       "                        random_state=1816622772),\n",
       " DecisionTreeClassifier(max_depth=5, max_features='sqrt', random_state=964997058),\n",
       " DecisionTreeClassifier(max_depth=5, max_features='sqrt', random_state=823758311),\n",
       " DecisionTreeClassifier(max_depth=5, max_features='sqrt',\n",
       "                        random_state=1672732855),\n",
       " DecisionTreeClassifier(max_depth=5, max_features='sqrt',\n",
       "                        random_state=1672972783),\n",
       " DecisionTreeClassifier(max_depth=5, max_features='sqrt', random_state=736225215),\n",
       " DecisionTreeClassifier(max_depth=5, max_features='sqrt',\n",
       "                        random_state=1456892238),\n",
       " DecisionTreeClassifier(max_depth=5, max_features='sqrt',\n",
       "                        random_state=2029387990),\n",
       " DecisionTreeClassifier(max_depth=5, max_features='sqrt',\n",
       "                        random_state=1208661907),\n",
       " DecisionTreeClassifier(max_depth=5, max_features='sqrt', random_state=37161709),\n",
       " DecisionTreeClassifier(max_depth=5, max_features='sqrt',\n",
       "                        random_state=1962321477),\n",
       " DecisionTreeClassifier(max_depth=5, max_features='sqrt', random_state=62783144),\n",
       " DecisionTreeClassifier(max_depth=5, max_features='sqrt', random_state=842120039),\n",
       " DecisionTreeClassifier(max_depth=5, max_features='sqrt', random_state=202610525),\n",
       " DecisionTreeClassifier(max_depth=5, max_features='sqrt',\n",
       "                        random_state=1702095831),\n",
       " DecisionTreeClassifier(max_depth=5, max_features='sqrt',\n",
       "                        random_state=1297350718),\n",
       " DecisionTreeClassifier(max_depth=5, max_features='sqrt', random_state=904641919),\n",
       " DecisionTreeClassifier(max_depth=5, max_features='sqrt',\n",
       "                        random_state=1061875405),\n",
       " DecisionTreeClassifier(max_depth=5, max_features='sqrt', random_state=961499382),\n",
       " DecisionTreeClassifier(max_depth=5, max_features='sqrt',\n",
       "                        random_state=1443841838),\n",
       " DecisionTreeClassifier(max_depth=5, max_features='sqrt',\n",
       "                        random_state=1200866236),\n",
       " DecisionTreeClassifier(max_depth=5, max_features='sqrt',\n",
       "                        random_state=1508851941),\n",
       " DecisionTreeClassifier(max_depth=5, max_features='sqrt',\n",
       "                        random_state=2072065657),\n",
       " DecisionTreeClassifier(max_depth=5, max_features='sqrt',\n",
       "                        random_state=1590899603),\n",
       " DecisionTreeClassifier(max_depth=5, max_features='sqrt',\n",
       "                        random_state=1222297131),\n",
       " DecisionTreeClassifier(max_depth=5, max_features='sqrt', random_state=407257928),\n",
       " DecisionTreeClassifier(max_depth=5, max_features='sqrt', random_state=351366520),\n",
       " DecisionTreeClassifier(max_depth=5, max_features='sqrt',\n",
       "                        random_state=1259813699),\n",
       " DecisionTreeClassifier(max_depth=5, max_features='sqrt', random_state=480958956),\n",
       " DecisionTreeClassifier(max_depth=5, max_features='sqrt', random_state=243614128),\n",
       " DecisionTreeClassifier(max_depth=5, max_features='sqrt',\n",
       "                        random_state=1824285043),\n",
       " DecisionTreeClassifier(max_depth=5, max_features='sqrt',\n",
       "                        random_state=1259691572),\n",
       " DecisionTreeClassifier(max_depth=5, max_features='sqrt',\n",
       "                        random_state=1570957393),\n",
       " DecisionTreeClassifier(max_depth=5, max_features='sqrt',\n",
       "                        random_state=1803604115),\n",
       " DecisionTreeClassifier(max_depth=5, max_features='sqrt', random_state=858607648),\n",
       " DecisionTreeClassifier(max_depth=5, max_features='sqrt', random_state=462754275),\n",
       " DecisionTreeClassifier(max_depth=5, max_features='sqrt',\n",
       "                        random_state=1246410289),\n",
       " DecisionTreeClassifier(max_depth=5, max_features='sqrt', random_state=360518597),\n",
       " DecisionTreeClassifier(max_depth=5, max_features='sqrt',\n",
       "                        random_state=2131325368),\n",
       " DecisionTreeClassifier(max_depth=5, max_features='sqrt', random_state=382225373),\n",
       " DecisionTreeClassifier(max_depth=5, max_features='sqrt', random_state=546167042),\n",
       " DecisionTreeClassifier(max_depth=5, max_features='sqrt', random_state=848275270),\n",
       " DecisionTreeClassifier(max_depth=5, max_features='sqrt',\n",
       "                        random_state=1068365794),\n",
       " DecisionTreeClassifier(max_depth=5, max_features='sqrt', random_state=902706183),\n",
       " DecisionTreeClassifier(max_depth=5, max_features='sqrt',\n",
       "                        random_state=1036919763),\n",
       " DecisionTreeClassifier(max_depth=5, max_features='sqrt', random_state=112365580),\n",
       " DecisionTreeClassifier(max_depth=5, max_features='sqrt', random_state=378152308),\n",
       " DecisionTreeClassifier(max_depth=5, max_features='sqrt', random_state=494345127),\n",
       " DecisionTreeClassifier(max_depth=5, max_features='sqrt', random_state=534458870),\n",
       " DecisionTreeClassifier(max_depth=5, max_features='sqrt', random_state=106299188),\n",
       " DecisionTreeClassifier(max_depth=5, max_features='sqrt', random_state=630000150),\n",
       " DecisionTreeClassifier(max_depth=5, max_features='sqrt', random_state=505618655),\n",
       " DecisionTreeClassifier(max_depth=5, max_features='sqrt',\n",
       "                        random_state=2033612473),\n",
       " DecisionTreeClassifier(max_depth=5, max_features='sqrt',\n",
       "                        random_state=1954724920),\n",
       " DecisionTreeClassifier(max_depth=5, max_features='sqrt', random_state=666048709),\n",
       " DecisionTreeClassifier(max_depth=5, max_features='sqrt',\n",
       "                        random_state=1911223786),\n",
       " DecisionTreeClassifier(max_depth=5, max_features='sqrt', random_state=962602020),\n",
       " DecisionTreeClassifier(max_depth=5, max_features='sqrt', random_state=518483047),\n",
       " DecisionTreeClassifier(max_depth=5, max_features='sqrt',\n",
       "                        random_state=2024732964),\n",
       " DecisionTreeClassifier(max_depth=5, max_features='sqrt',\n",
       "                        random_state=1294704704),\n",
       " DecisionTreeClassifier(max_depth=5, max_features='sqrt',\n",
       "                        random_state=1554518077),\n",
       " DecisionTreeClassifier(max_depth=5, max_features='sqrt', random_state=468032259),\n",
       " DecisionTreeClassifier(max_depth=5, max_features='sqrt', random_state=605981097),\n",
       " DecisionTreeClassifier(max_depth=5, max_features='sqrt', random_state=168438807),\n",
       " DecisionTreeClassifier(max_depth=5, max_features='sqrt', random_state=543450510),\n",
       " DecisionTreeClassifier(max_depth=5, max_features='sqrt', random_state=221112886),\n",
       " DecisionTreeClassifier(max_depth=5, max_features='sqrt', random_state=401806309),\n",
       " DecisionTreeClassifier(max_depth=5, max_features='sqrt', random_state=742312232),\n",
       " DecisionTreeClassifier(max_depth=5, max_features='sqrt',\n",
       "                        random_state=1745957857),\n",
       " DecisionTreeClassifier(max_depth=5, max_features='sqrt',\n",
       "                        random_state=1554672144),\n",
       " DecisionTreeClassifier(max_depth=5, max_features='sqrt', random_state=277636058),\n",
       " DecisionTreeClassifier(max_depth=5, max_features='sqrt',\n",
       "                        random_state=1162883908),\n",
       " DecisionTreeClassifier(max_depth=5, max_features='sqrt',\n",
       "                        random_state=1619219307),\n",
       " DecisionTreeClassifier(max_depth=5, max_features='sqrt', random_state=537107220),\n",
       " DecisionTreeClassifier(max_depth=5, max_features='sqrt', random_state=459290710),\n",
       " DecisionTreeClassifier(max_depth=5, max_features='sqrt',\n",
       "                        random_state=1264270137),\n",
       " DecisionTreeClassifier(max_depth=5, max_features='sqrt', random_state=662935811),\n",
       " DecisionTreeClassifier(max_depth=5, max_features='sqrt',\n",
       "                        random_state=1504048295),\n",
       " DecisionTreeClassifier(max_depth=5, max_features='sqrt', random_state=490103359),\n",
       " DecisionTreeClassifier(max_depth=5, max_features='sqrt', random_state=837362158),\n",
       " DecisionTreeClassifier(max_depth=5, max_features='sqrt',\n",
       "                        random_state=1395729812),\n",
       " DecisionTreeClassifier(max_depth=5, max_features='sqrt', random_state=400795350),\n",
       " DecisionTreeClassifier(max_depth=5, max_features='sqrt',\n",
       "                        random_state=1955319795),\n",
       " DecisionTreeClassifier(max_depth=5, max_features='sqrt', random_state=925221455),\n",
       " DecisionTreeClassifier(max_depth=5, max_features='sqrt', random_state=297326234),\n",
       " DecisionTreeClassifier(max_depth=5, max_features='sqrt',\n",
       "                        random_state=1379557194),\n",
       " DecisionTreeClassifier(max_depth=5, max_features='sqrt', random_state=279222937),\n",
       " DecisionTreeClassifier(max_depth=5, max_features='sqrt',\n",
       "                        random_state=1616040025),\n",
       " DecisionTreeClassifier(max_depth=5, max_features='sqrt',\n",
       "                        random_state=1435197869),\n",
       " DecisionTreeClassifier(max_depth=5, max_features='sqrt',\n",
       "                        random_state=1570657206),\n",
       " DecisionTreeClassifier(max_depth=5, max_features='sqrt',\n",
       "                        random_state=1661790968),\n",
       " DecisionTreeClassifier(max_depth=5, max_features='sqrt',\n",
       "                        random_state=2115903073),\n",
       " DecisionTreeClassifier(max_depth=5, max_features='sqrt', random_state=894197962),\n",
       " DecisionTreeClassifier(max_depth=5, max_features='sqrt',\n",
       "                        random_state=1856479319),\n",
       " DecisionTreeClassifier(max_depth=5, max_features='sqrt', random_state=589647100),\n",
       " DecisionTreeClassifier(max_depth=5, max_features='sqrt',\n",
       "                        random_state=1213551659),\n",
       " DecisionTreeClassifier(max_depth=5, max_features='sqrt', random_state=156603786),\n",
       " DecisionTreeClassifier(max_depth=5, max_features='sqrt', random_state=605793530),\n",
       " DecisionTreeClassifier(max_depth=5, max_features='sqrt',\n",
       "                        random_state=1156850039),\n",
       " DecisionTreeClassifier(max_depth=5, max_features='sqrt',\n",
       "                        random_state=1742025151),\n",
       " DecisionTreeClassifier(max_depth=5, max_features='sqrt',\n",
       "                        random_state=1070041163),\n",
       " DecisionTreeClassifier(max_depth=5, max_features='sqrt',\n",
       "                        random_state=1939217377),\n",
       " DecisionTreeClassifier(max_depth=5, max_features='sqrt', random_state=111588236),\n",
       " DecisionTreeClassifier(max_depth=5, max_features='sqrt', random_state=238664336),\n",
       " DecisionTreeClassifier(max_depth=5, max_features='sqrt',\n",
       "                        random_state=1202599081),\n",
       " DecisionTreeClassifier(max_depth=5, max_features='sqrt', random_state=425099974),\n",
       " DecisionTreeClassifier(max_depth=5, max_features='sqrt',\n",
       "                        random_state=1300619852),\n",
       " DecisionTreeClassifier(max_depth=5, max_features='sqrt', random_state=602780252),\n",
       " DecisionTreeClassifier(max_depth=5, max_features='sqrt', random_state=54185701),\n",
       " DecisionTreeClassifier(max_depth=5, max_features='sqrt', random_state=622117013),\n",
       " DecisionTreeClassifier(max_depth=5, max_features='sqrt',\n",
       "                        random_state=1277265917),\n",
       " DecisionTreeClassifier(max_depth=5, max_features='sqrt',\n",
       "                        random_state=1860069870),\n",
       " DecisionTreeClassifier(max_depth=5, max_features='sqrt',\n",
       "                        random_state=1296053868),\n",
       " DecisionTreeClassifier(max_depth=5, max_features='sqrt', random_state=574114567),\n",
       " DecisionTreeClassifier(max_depth=5, max_features='sqrt',\n",
       "                        random_state=1420296202),\n",
       " DecisionTreeClassifier(max_depth=5, max_features='sqrt',\n",
       "                        random_state=2083621371),\n",
       " DecisionTreeClassifier(max_depth=5, max_features='sqrt',\n",
       "                        random_state=1442450225),\n",
       " DecisionTreeClassifier(max_depth=5, max_features='sqrt', random_state=312747006),\n",
       " DecisionTreeClassifier(max_depth=5, max_features='sqrt',\n",
       "                        random_state=1652612572),\n",
       " DecisionTreeClassifier(max_depth=5, max_features='sqrt',\n",
       "                        random_state=1518760305),\n",
       " DecisionTreeClassifier(max_depth=5, max_features='sqrt', random_state=579379895),\n",
       " DecisionTreeClassifier(max_depth=5, max_features='sqrt',\n",
       "                        random_state=1642620786),\n",
       " DecisionTreeClassifier(max_depth=5, max_features='sqrt', random_state=785705640),\n",
       " DecisionTreeClassifier(max_depth=5, max_features='sqrt',\n",
       "                        random_state=2031070851),\n",
       " DecisionTreeClassifier(max_depth=5, max_features='sqrt',\n",
       "                        random_state=1433478421),\n",
       " DecisionTreeClassifier(max_depth=5, max_features='sqrt',\n",
       "                        random_state=1168743161),\n",
       " DecisionTreeClassifier(max_depth=5, max_features='sqrt',\n",
       "                        random_state=1123133093),\n",
       " DecisionTreeClassifier(max_depth=5, max_features='sqrt',\n",
       "                        random_state=1057457845),\n",
       " DecisionTreeClassifier(max_depth=5, max_features='sqrt',\n",
       "                        random_state=1692452201),\n",
       " DecisionTreeClassifier(max_depth=5, max_features='sqrt',\n",
       "                        random_state=1034798897),\n",
       " DecisionTreeClassifier(max_depth=5, max_features='sqrt', random_state=835955839)]"
      ]
     },
     "execution_count": 23,
     "metadata": {},
     "output_type": "execute_result"
    }
   ],
   "source": [
    "rf_model.estimators_"
   ]
  },
  {
   "cell_type": "code",
   "execution_count": 24,
   "id": "7289c04c-c374-4354-88f9-86892dbf2b04",
   "metadata": {},
   "outputs": [
    {
     "data": {
      "text/html": [
       "<style>#sk-container-id-3 {color: black;background-color: white;}#sk-container-id-3 pre{padding: 0;}#sk-container-id-3 div.sk-toggleable {background-color: white;}#sk-container-id-3 label.sk-toggleable__label {cursor: pointer;display: block;width: 100%;margin-bottom: 0;padding: 0.3em;box-sizing: border-box;text-align: center;}#sk-container-id-3 label.sk-toggleable__label-arrow:before {content: \"▸\";float: left;margin-right: 0.25em;color: #696969;}#sk-container-id-3 label.sk-toggleable__label-arrow:hover:before {color: black;}#sk-container-id-3 div.sk-estimator:hover label.sk-toggleable__label-arrow:before {color: black;}#sk-container-id-3 div.sk-toggleable__content {max-height: 0;max-width: 0;overflow: hidden;text-align: left;background-color: #f0f8ff;}#sk-container-id-3 div.sk-toggleable__content pre {margin: 0.2em;color: black;border-radius: 0.25em;background-color: #f0f8ff;}#sk-container-id-3 input.sk-toggleable__control:checked~div.sk-toggleable__content {max-height: 200px;max-width: 100%;overflow: auto;}#sk-container-id-3 input.sk-toggleable__control:checked~label.sk-toggleable__label-arrow:before {content: \"▾\";}#sk-container-id-3 div.sk-estimator input.sk-toggleable__control:checked~label.sk-toggleable__label {background-color: #d4ebff;}#sk-container-id-3 div.sk-label input.sk-toggleable__control:checked~label.sk-toggleable__label {background-color: #d4ebff;}#sk-container-id-3 input.sk-hidden--visually {border: 0;clip: rect(1px 1px 1px 1px);clip: rect(1px, 1px, 1px, 1px);height: 1px;margin: -1px;overflow: hidden;padding: 0;position: absolute;width: 1px;}#sk-container-id-3 div.sk-estimator {font-family: monospace;background-color: #f0f8ff;border: 1px dotted black;border-radius: 0.25em;box-sizing: border-box;margin-bottom: 0.5em;}#sk-container-id-3 div.sk-estimator:hover {background-color: #d4ebff;}#sk-container-id-3 div.sk-parallel-item::after {content: \"\";width: 100%;border-bottom: 1px solid gray;flex-grow: 1;}#sk-container-id-3 div.sk-label:hover label.sk-toggleable__label {background-color: #d4ebff;}#sk-container-id-3 div.sk-serial::before {content: \"\";position: absolute;border-left: 1px solid gray;box-sizing: border-box;top: 0;bottom: 0;left: 50%;z-index: 0;}#sk-container-id-3 div.sk-serial {display: flex;flex-direction: column;align-items: center;background-color: white;padding-right: 0.2em;padding-left: 0.2em;position: relative;}#sk-container-id-3 div.sk-item {position: relative;z-index: 1;}#sk-container-id-3 div.sk-parallel {display: flex;align-items: stretch;justify-content: center;background-color: white;position: relative;}#sk-container-id-3 div.sk-item::before, #sk-container-id-3 div.sk-parallel-item::before {content: \"\";position: absolute;border-left: 1px solid gray;box-sizing: border-box;top: 0;bottom: 0;left: 50%;z-index: -1;}#sk-container-id-3 div.sk-parallel-item {display: flex;flex-direction: column;z-index: 1;position: relative;background-color: white;}#sk-container-id-3 div.sk-parallel-item:first-child::after {align-self: flex-end;width: 50%;}#sk-container-id-3 div.sk-parallel-item:last-child::after {align-self: flex-start;width: 50%;}#sk-container-id-3 div.sk-parallel-item:only-child::after {width: 0;}#sk-container-id-3 div.sk-dashed-wrapped {border: 1px dashed gray;margin: 0 0.4em 0.5em 0.4em;box-sizing: border-box;padding-bottom: 0.4em;background-color: white;}#sk-container-id-3 div.sk-label label {font-family: monospace;font-weight: bold;display: inline-block;line-height: 1.2em;}#sk-container-id-3 div.sk-label-container {text-align: center;}#sk-container-id-3 div.sk-container {/* jupyter's `normalize.less` sets `[hidden] { display: none; }` but bootstrap.min.css set `[hidden] { display: none !important; }` so we also need the `!important` here to be able to override the default hidden behavior on the sphinx rendered scikit-learn.org. See: https://github.com/scikit-learn/scikit-learn/issues/21755 */display: inline-block !important;position: relative;}#sk-container-id-3 div.sk-text-repr-fallback {display: none;}</style><div id=\"sk-container-id-3\" class=\"sk-top-container\"><div class=\"sk-text-repr-fallback\"><pre>DecisionTreeClassifier(max_depth=5, max_features=&#x27;sqrt&#x27;, random_state=154382278)</pre><b>In a Jupyter environment, please rerun this cell to show the HTML representation or trust the notebook. <br />On GitHub, the HTML representation is unable to render, please try loading this page with nbviewer.org.</b></div><div class=\"sk-container\" hidden><div class=\"sk-item\"><div class=\"sk-estimator sk-toggleable\"><input class=\"sk-toggleable__control sk-hidden--visually\" id=\"sk-estimator-id-3\" type=\"checkbox\" checked><label for=\"sk-estimator-id-3\" class=\"sk-toggleable__label sk-toggleable__label-arrow\">DecisionTreeClassifier</label><div class=\"sk-toggleable__content\"><pre>DecisionTreeClassifier(max_depth=5, max_features=&#x27;sqrt&#x27;, random_state=154382278)</pre></div></div></div></div></div>"
      ],
      "text/plain": [
       "DecisionTreeClassifier(max_depth=5, max_features='sqrt', random_state=154382278)"
      ]
     },
     "execution_count": 24,
     "metadata": {},
     "output_type": "execute_result"
    }
   ],
   "source": [
    "rf_model.estimators_[0]"
   ]
  },
  {
   "cell_type": "code",
   "execution_count": 25,
   "id": "6a26e47c-5759-4779-99d7-11991234537b",
   "metadata": {},
   "outputs": [
    {
     "name": "stderr",
     "output_type": "stream",
     "text": [
      "D:\\AN\\AnacondaNavigator\\Lib\\site-packages\\sklearn\\base.py:432: UserWarning: X has feature names, but DecisionTreeClassifier was fitted without feature names\n",
      "  warnings.warn(\n"
     ]
    },
    {
     "data": {
      "text/plain": [
       "array([1., 1., 1., 1., 1., 1., 1., 1., 1., 1.])"
      ]
     },
     "execution_count": 25,
     "metadata": {},
     "output_type": "execute_result"
    }
   ],
   "source": [
    "rf_model.estimators_[0].predict(X_test)[:10]"
   ]
  },
  {
   "cell_type": "code",
   "execution_count": 26,
   "id": "dfe1388f-b8d0-461a-b77b-4ea01d28f07d",
   "metadata": {},
   "outputs": [
    {
     "name": "stderr",
     "output_type": "stream",
     "text": [
      "D:\\AN\\AnacondaNavigator\\Lib\\site-packages\\sklearn\\base.py:432: UserWarning: X has feature names, but DecisionTreeClassifier was fitted without feature names\n",
      "  warnings.warn(\n"
     ]
    },
    {
     "data": {
      "text/plain": [
       "array([1., 1., 1., 1., 1., 1., 1., 1., 1., 1.])"
      ]
     },
     "execution_count": 26,
     "metadata": {},
     "output_type": "execute_result"
    }
   ],
   "source": [
    "rf_model.estimators_[2].predict(X_test)[:10]"
   ]
  },
  {
   "cell_type": "code",
   "execution_count": 27,
   "id": "339c5b5e-cf22-4ae3-924a-99544489cd47",
   "metadata": {},
   "outputs": [
    {
     "name": "stderr",
     "output_type": "stream",
     "text": [
      "D:\\AN\\AnacondaNavigator\\Lib\\site-packages\\sklearn\\base.py:432: UserWarning: X has feature names, but DecisionTreeClassifier was fitted without feature names\n",
      "  warnings.warn(\n"
     ]
    },
    {
     "data": {
      "text/plain": [
       "array([1., 1., 1., 1., 1., 1., 1., 1., 1., 1.])"
      ]
     },
     "execution_count": 27,
     "metadata": {},
     "output_type": "execute_result"
    }
   ],
   "source": [
    "rf_model.estimators_[3].predict(X_test)[:10]"
   ]
  },
  {
   "cell_type": "code",
   "execution_count": 28,
   "id": "f850e256-12e7-4b32-87bd-f502d935a53e",
   "metadata": {},
   "outputs": [
    {
     "data": {
      "text/plain": [
       "array([0.21710329, 0.184994  , 0.20848223, 0.18801165, 0.20140883])"
      ]
     },
     "execution_count": 28,
     "metadata": {},
     "output_type": "execute_result"
    }
   ],
   "source": [
    "rf_model.feature_importances_"
   ]
  },
  {
   "cell_type": "code",
   "execution_count": 29,
   "id": "4a144951-d552-44c8-bf96-01cb24a1fcdd",
   "metadata": {},
   "outputs": [],
   "source": [
    "in_sample_preds = rf_model.predict(X_train)\n",
    "out_sample_preds = rf_model.predict(X_test)"
   ]
  },
  {
   "cell_type": "code",
   "execution_count": 30,
   "id": "d0b4c813-670d-4fd2-ac73-a5cbed7d8516",
   "metadata": {},
   "outputs": [
    {
     "name": "stdout",
     "output_type": "stream",
     "text": [
      "In-Sample Accuracy: 0.6074\n",
      "Out-of-Sample Accuracy: 0.6075\n"
     ]
    }
   ],
   "source": [
    "print('In-Sample Accuracy: %0.4f' % accuracy_score(y_train, in_sample_preds))\n",
    "print('Out-of-Sample Accuracy: %0.4f' % accuracy_score(y_test, out_sample_preds))"
   ]
  },
  {
   "cell_type": "code",
   "execution_count": 31,
   "id": "056903af-44a9-4b58-b2d9-846f8347f420",
   "metadata": {},
   "outputs": [
    {
     "name": "stdout",
     "output_type": "stream",
     "text": [
      "In-Sample Precision: 0.6074\n",
      "Out-of-Sample Precision: 0.6075\n"
     ]
    }
   ],
   "source": [
    "print('In-Sample Precision: %0.4f' % precision_score(y_train, in_sample_preds))\n",
    "print('Out-of-Sample Precision: %0.4f' % precision_score(y_test, out_sample_preds))"
   ]
  },
  {
   "cell_type": "code",
   "execution_count": 32,
   "id": "85ddc83b-b895-42fe-9966-bac460eb9a96",
   "metadata": {},
   "outputs": [
    {
     "name": "stdout",
     "output_type": "stream",
     "text": [
      "In-Sample F1 Score: 0.7557\n",
      "Out-of-Sample F1 Score: 0.7558\n"
     ]
    }
   ],
   "source": [
    "print('In-Sample F1 Score: %0.4f' % f1_score(y_train, in_sample_preds))\n",
    "print('Out-of-Sample F1 Score: %0.4f' % f1_score(y_test, out_sample_preds))"
   ]
  }
 ],
 "metadata": {
  "kernelspec": {
   "display_name": "Python 3 (ipykernel)",
   "language": "python",
   "name": "python3"
  },
  "language_info": {
   "codemirror_mode": {
    "name": "ipython",
    "version": 3
   },
   "file_extension": ".py",
   "mimetype": "text/x-python",
   "name": "python",
   "nbconvert_exporter": "python",
   "pygments_lexer": "ipython3",
   "version": "3.11.3"
  }
 },
 "nbformat": 4,
 "nbformat_minor": 5
}
